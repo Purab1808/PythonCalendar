{
 "cells": [
  {
   "cell_type": "code",
   "execution_count": 4,
   "id": "a0388a91",
   "metadata": {},
   "outputs": [
    {
     "name": "stdout",
     "output_type": "stream",
     "text": [
      "Enter year: 2004\n",
      "Enter month: 8\n",
      "    August 2004\n",
      "Mo Tu We Th Fr Sa Su\n",
      "                   1\n",
      " 2  3  4  5  6  7  8\n",
      " 9 10 11 12 13 14 15\n",
      "16 17 18 19 20 21 22\n",
      "23 24 25 26 27 28 29\n",
      "30 31\n",
      "\n"
     ]
    }
   ],
   "source": [
    "# Program to display calendar\n",
    "\n",
    "\n",
    "def display_calendar(year, month):\n",
    "    \"\"\"\n",
    "    Display a calendar for the given year and month.\n",
    "\n",
    "    Parameters:\n",
    "    year (int): The year for which the calendar is to be displayed.\n",
    "    month (int): The month for which the calendar is to be displayed.\n",
    "\n",
    "    \"\"\"\n",
    "    import calendar\n",
    "\n",
    "    print(calendar.month(year, month))\n",
    "\n",
    "\n",
    "def get_valid_year():\n",
    "    \"\"\"\n",
    "    Function to prompt the user for a valid year input and return the valid year as an integer.\n",
    "    \"\"\"\n",
    "    while True:\n",
    "        try:\n",
    "            year = int(input(\"Enter year: \"))\n",
    "            if year < 0:\n",
    "                raise ValueError(\"Year must be a positive integer\")\n",
    "            return year\n",
    "        except ValueError:\n",
    "            print(\"Invalid input. Please enter a valid year.\")\n",
    "\n",
    "\n",
    "def get_valid_month():\n",
    "    \"\"\"\n",
    "    A function that prompts the user to enter a month, validates the input, and returns the valid month.\n",
    "    \"\"\"\n",
    "    while True:\n",
    "        try:\n",
    "            month = int(input(\"Enter month: \"))\n",
    "            if month < 1 or month > 12:\n",
    "                raise ValueError(\"Month must be between 1 and 12\")\n",
    "            return month\n",
    "        except ValueError:\n",
    "            print(\"Invalid input. Please enter a valid month.\")\n",
    "\n",
    "\n",
    "year = get_valid_year()\n",
    "month = get_valid_month()\n",
    "\n",
    "display_calendar(year, month)\n"
   ]
  },
  {
   "cell_type": "code",
   "execution_count": null,
   "id": "cf8b5458",
   "metadata": {},
   "outputs": [],
   "source": []
  }
 ],
 "metadata": {
  "kernelspec": {
   "display_name": "Python 3 (ipykernel)",
   "language": "python",
   "name": "python3"
  },
  "language_info": {
   "codemirror_mode": {
    "name": "ipython",
    "version": 3
   },
   "file_extension": ".py",
   "mimetype": "text/x-python",
   "name": "python",
   "nbconvert_exporter": "python",
   "pygments_lexer": "ipython3",
   "version": "3.11.5"
  }
 },
 "nbformat": 4,
 "nbformat_minor": 5
}
